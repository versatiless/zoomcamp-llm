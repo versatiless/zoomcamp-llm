{
 "cells": [
  {
   "cell_type": "code",
   "execution_count": 3,
   "id": "8e87d35d-6833-4675-971c-27565c1f5fec",
   "metadata": {},
   "outputs": [],
   "source": [
    "import openai "
   ]
  },
  {
   "cell_type": "code",
   "execution_count": 5,
   "id": "29cc4e9c-a1e3-4f90-b93d-95fb4bb23aad",
   "metadata": {},
   "outputs": [],
   "source": [
    "from openai import OpenAI"
   ]
  },
  {
   "cell_type": "code",
   "execution_count": 6,
   "id": "4b4d0cdd-1fbf-4183-aa55-02420b92d006",
   "metadata": {},
   "outputs": [],
   "source": [
    "client = OpenAI()"
   ]
  },
  {
   "cell_type": "code",
   "execution_count": 7,
   "id": "89f5ed23-0c46-4bda-a03a-37a7fc6798b2",
   "metadata": {},
   "outputs": [],
   "source": [
    "import os"
   ]
  },
  {
   "cell_type": "code",
   "execution_count": 10,
   "id": "f3d33e51-a853-43f7-a0ef-91f27224639b",
   "metadata": {},
   "outputs": [],
   "source": [
    "response = client.chat.completions.create(\n",
    "    model='gpt-4o',\n",
    "    messages=[{\"role\": \"user\", \"content\": \"is it too late to join the course?\"}]\n",
    ")"
   ]
  },
  {
   "cell_type": "code",
   "execution_count": 14,
   "id": "5f4e9c03-c544-466c-9620-403eb56e5aef",
   "metadata": {},
   "outputs": [
    {
     "data": {
      "text/plain": [
       "\"I’m sorry, but I would need more information to answer your question accurately. It depends on the specific course you're referring to, including its enrollment deadlines, start date, and any specific rules the institution might have regarding late registration. It would be best to check the course details on the institution's website or contact the course administrator directly for the most accurate information.\""
      ]
     },
     "execution_count": 14,
     "metadata": {},
     "output_type": "execute_result"
    }
   ],
   "source": [
    "response.choices[0].message.content"
   ]
  },
  {
   "cell_type": "code",
   "execution_count": null,
   "id": "dc7177e5-6760-4509-9531-36c0490aaac5",
   "metadata": {},
   "outputs": [],
   "source": []
  }
 ],
 "metadata": {
  "kernelspec": {
   "display_name": "Python 3 (ipykernel)",
   "language": "python",
   "name": "python3"
  },
  "language_info": {
   "codemirror_mode": {
    "name": "ipython",
    "version": 3
   },
   "file_extension": ".py",
   "mimetype": "text/x-python",
   "name": "python",
   "nbconvert_exporter": "python",
   "pygments_lexer": "ipython3",
   "version": "3.12.1"
  }
 },
 "nbformat": 4,
 "nbformat_minor": 5
}
